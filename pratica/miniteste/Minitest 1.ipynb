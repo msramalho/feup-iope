{
 "cells": [
  {
   "cell_type": "markdown",
   "metadata": {},
   "source": [
    "<h1 align=\"center\">Exercício de Aula</h1>\n",
    "           \n",
    " * Daniel Silva, up201503212\n",
    " * João Conde, up201503256\n",
    " * Miguel Ramalho, up201402027\n",
    " \n",
    "<span style=\"float:right\">11/04/2019</span>"
   ]
  },
  {
   "cell_type": "markdown",
   "metadata": {},
   "source": [
    "| Partida  | Chegada   | Tipo        | Custo | Procura |\n",
    "|----------|-----------|-------------|-------|---------|\n",
    "| Porto    |  New York |  Early bird | 178 € | 63      |\n",
    "| Porto    |  Chicago  |  Early bird | 268 € | 84      |\n",
    "| Porto    |  Orlando  |  Early bird | 228 € | 86      |\n",
    "| Porto    |  New York |  Full price | 380 € | 31      |\n",
    "| Porto    |  Chicago  |  Full price | 456 € | 12      |\n",
    "| Porto    |  Orlando  |  Full price | 560 € | 21      |\n",
    "| Lisbon   |  New York |  Early bird | 199 € | 50      |\n",
    "| Lisbon   |  Chicago  |  Early bird | 249 € | 107     |\n",
    "| Lisbon   |  Orlando  |  Early bird | 349 € | 75      |\n",
    "| Lisbon   |  New York |  Full price | 385 € | 29      |\n",
    "| Lisbon   |  Chicago  |  Full price | 444 € | 14      |\n",
    "| Lisbon   |  Orlando  |  Full price | 580 € | 18      |\n",
    "| New York |  Chicago  |  Early bird | 179 € | 122     |\n",
    "| New York |  Chicago  |  Full price | 380 € | 16      |\n",
    "| New York |  Orlando  |  Early bird | 224 € | 88      |\n",
    "| New York |  Orlando  |  Full price | 582 € | 19      |"
   ]
  },
  {
   "cell_type": "markdown",
   "metadata": {},
   "source": [
    "### Install modules"
   ]
  },
  {
   "cell_type": "code",
   "execution_count": 1,
   "metadata": {
    "scrolled": true
   },
   "outputs": [
    {
     "name": "stdout",
     "output_type": "stream",
     "text": [
      "Requirement already satisfied: ortools in c:\\users\\m\\appdata\\local\\programs\\python\\python37\\lib\\site-packages (7.0.6546)\n",
      "Requirement already satisfied: six>=1.10 in c:\\users\\m\\appdata\\local\\programs\\python\\python37\\lib\\site-packages (from ortools) (1.12.0)\n",
      "Requirement already satisfied: protobuf>=3.6.1 in c:\\users\\m\\appdata\\local\\programs\\python\\python37\\lib\\site-packages (from ortools) (3.7.1)\n",
      "Requirement already satisfied: setuptools in c:\\users\\m\\appdata\\local\\programs\\python\\python37\\lib\\site-packages (from protobuf>=3.6.1->ortools) (40.6.2)\n"
     ]
    }
   ],
   "source": [
    "!pip install ortools"
   ]
  },
  {
   "cell_type": "markdown",
   "metadata": {},
   "source": [
    "### Import\n",
    " * Import [Google Or-tools](https://developers.google.com/optimization/)\n",
    " * Jupyter HTML display"
   ]
  },
  {
   "cell_type": "code",
   "execution_count": 2,
   "metadata": {},
   "outputs": [],
   "source": [
    "from ortools.linear_solver import pywraplp\n",
    "from IPython.core.display import display, HTML"
   ]
  },
  {
   "cell_type": "code",
   "execution_count": 3,
   "metadata": {},
   "outputs": [],
   "source": [
    "# create a solver instance for TAP\n",
    "solver = pywraplp.Solver('tap_solver', pywraplp.Solver.CBC_MIXED_INTEGER_PROGRAMMING)"
   ]
  },
  {
   "cell_type": "markdown",
   "metadata": {},
   "source": [
    "# Decision Variables\n",
    "For each flight and for each fare there is a variable. \n",
    "\n",
    "This decision variable describes the number of seats to sell for each flight and fare.\n",
    "\n",
    "`8 vars x 2 fares = 16 decision variables`"
   ]
  },
  {
   "cell_type": "markdown",
   "metadata": {},
   "source": [
    "### Flights From Porto"
   ]
  },
  {
   "cell_type": "code",
   "execution_count": 4,
   "metadata": {},
   "outputs": [],
   "source": [
    "pne = solver.IntVar(0, 63, 'Porto->New York, Early Bird')\n",
    "pnf = solver.IntVar(0, 31, 'Porto->New York, Full Price')"
   ]
  },
  {
   "cell_type": "code",
   "execution_count": 5,
   "metadata": {},
   "outputs": [],
   "source": [
    "poe = solver.IntVar(0, 86, 'Porto->Orlando, Early Bird')\n",
    "pof = solver.IntVar(0, 21, 'Porto->Orlando, Full Price')"
   ]
  },
  {
   "cell_type": "code",
   "execution_count": 6,
   "metadata": {},
   "outputs": [],
   "source": [
    "pce = solver.IntVar(0, 84, 'Porto->Chicago, Early Bird')\n",
    "pcf = solver.IntVar(0, 12, 'Porto->Chicago, Full Price')"
   ]
  },
  {
   "cell_type": "markdown",
   "metadata": {},
   "source": [
    "### Flights From Lisbon"
   ]
  },
  {
   "cell_type": "code",
   "execution_count": 7,
   "metadata": {},
   "outputs": [],
   "source": [
    "lne = solver.IntVar(0, 50, 'Lisbon->New York, Early Bird')\n",
    "lnf = solver.IntVar(0, 29, 'Lisbon->New York, Full Price')"
   ]
  },
  {
   "cell_type": "code",
   "execution_count": 8,
   "metadata": {},
   "outputs": [],
   "source": [
    "loe = solver.IntVar(0, 75, 'Lisbon->Orlando, Early Bird')\n",
    "lof = solver.IntVar(0, 18, 'Lisbon->Orlando, Full Price')"
   ]
  },
  {
   "cell_type": "code",
   "execution_count": 9,
   "metadata": {},
   "outputs": [],
   "source": [
    "lce = solver.IntVar(0, 107, 'Lisbon->Chicago, Early Bird')\n",
    "lcf = solver.IntVar(0, 14,  'Lisbon->Chicago, Full Price')"
   ]
  },
  {
   "cell_type": "markdown",
   "metadata": {},
   "source": [
    "### Flights From New York"
   ]
  },
  {
   "cell_type": "code",
   "execution_count": 10,
   "metadata": {},
   "outputs": [],
   "source": [
    "noe = solver.IntVar(0, 88, 'New York->Orlando, Early Bird')\n",
    "nof = solver.IntVar(0, 19, 'New York->Orlando, Full Price')"
   ]
  },
  {
   "cell_type": "code",
   "execution_count": 11,
   "metadata": {},
   "outputs": [],
   "source": [
    "nce = solver.IntVar(0, 122, 'New York->Chicago, Early Bird')\n",
    "ncf = solver.IntVar(0, 16,  'New York->Chicago, Full Price')"
   ]
  },
  {
   "cell_type": "markdown",
   "metadata": {},
   "source": [
    "# Objective Function\n",
    "Maximize income"
   ]
  },
  {
   "cell_type": "code",
   "execution_count": 12,
   "metadata": {},
   "outputs": [],
   "source": [
    "solver.Maximize(pne*178 + pnf*380 + lne*199 + lnf*385 + pce*268 + pcf*456 + poe*228 + pof*560 + lce*249 + lcf*444 + loe*349 + lof*580 + noe*224 + nof*582 + nce*179 + ncf*380)"
   ]
  },
  {
   "cell_type": "markdown",
   "metadata": {},
   "source": [
    "# Constraints"
   ]
  },
  {
   "cell_type": "code",
   "execution_count": 13,
   "metadata": {},
   "outputs": [],
   "source": [
    "PC = 274 # PLANE CAPACITY"
   ]
  },
  {
   "cell_type": "markdown",
   "metadata": {},
   "source": [
    "These constraints ensure that each of the sources of the network can send `PC` travelers and that each of the sinks can receive `PC`"
   ]
  },
  {
   "cell_type": "code",
   "execution_count": 14,
   "metadata": {},
   "outputs": [],
   "source": [
    "# Flights that can leave Porto \n",
    "solver.Add(pne + pnf + poe + pof + pce + pcf <= PC);"
   ]
  },
  {
   "cell_type": "code",
   "execution_count": 15,
   "metadata": {},
   "outputs": [],
   "source": [
    "# Flights that can leave Lisbon\n",
    "solver.Add(lne + lnf + loe + lof + lce + lcf <= PC);"
   ]
  },
  {
   "cell_type": "code",
   "execution_count": 16,
   "metadata": {},
   "outputs": [],
   "source": [
    "# Max arriving at Orlando \n",
    "solver.Add(poe + pof + loe + lof + noe + nof <= PC);"
   ]
  },
  {
   "cell_type": "code",
   "execution_count": 17,
   "metadata": {},
   "outputs": [],
   "source": [
    "# Max arriving at Chicago\n",
    "solver.Add(pce + pcf + lce + lcf + nce + ncf<= PC);"
   ]
  },
  {
   "cell_type": "markdown",
   "metadata": {},
   "source": [
    "The following constraints are not necessary, but are interesting in that they describe the flow of travelers in the `NY` station:"
   ]
  },
  {
   "cell_type": "code",
   "execution_count": 18,
   "metadata": {},
   "outputs": [],
   "source": [
    "# Max arriving at NY\n",
    "solver.Add(pne + pnf + lne + lnf <= 2 * PC);"
   ]
  },
  {
   "cell_type": "code",
   "execution_count": 19,
   "metadata": {},
   "outputs": [],
   "source": [
    "# Max leaving from NY\n",
    "solver.Add(noe + nof + nce + ncf <= (2 * PC) - (poe + pof + loe + lof + pce + pcf + lce + lcf));"
   ]
  },
  {
   "cell_type": "markdown",
   "metadata": {},
   "source": [
    "# Solution"
   ]
  },
  {
   "cell_type": "code",
   "execution_count": 20,
   "metadata": {},
   "outputs": [
    {
     "name": "stdout",
     "output_type": "stream",
     "text": [
      "Number of variables   = 16\n",
      "Number of constraints = 6\n"
     ]
    }
   ],
   "source": [
    "print('Number of variables   =', solver.NumVariables())\n",
    "print('Number of constraints =', solver.NumConstraints())"
   ]
  },
  {
   "cell_type": "code",
   "execution_count": 21,
   "metadata": {},
   "outputs": [],
   "source": [
    "result_status = solver.Solve()"
   ]
  },
  {
   "cell_type": "code",
   "execution_count": 22,
   "metadata": {},
   "outputs": [],
   "source": [
    "# The problem has an optimal solution.\n",
    "assert result_status == pywraplp.Solver.OPTIMAL"
   ]
  },
  {
   "cell_type": "code",
   "execution_count": 23,
   "metadata": {},
   "outputs": [
    {
     "data": {
      "text/html": [
       "<h1 align=\"center\">Optimal Value = 208310€</h1>"
      ],
      "text/plain": [
       "<IPython.core.display.HTML object>"
      ]
     },
     "metadata": {},
     "output_type": "display_data"
    }
   ],
   "source": [
    "display(HTML('<h1 align=\"center\">Optimal Value = %d€</h1>' % solver.Objective().Value()))"
   ]
  },
  {
   "cell_type": "code",
   "execution_count": 24,
   "metadata": {
    "scrolled": true
   },
   "outputs": [
    {
     "name": "stdout",
     "output_type": "stream",
     "text": [
      "        Porto->New York, Early Bird =  63 seats\n",
      "         Porto->Chicago, Early Bird =  84 seats\n",
      "         Porto->Orlando, Early Bird =  63 seats\n",
      "        Porto->New York, Full Price =  31 seats\n",
      "         Porto->Chicago, Full Price =  12 seats\n",
      "         Porto->Orlando, Full Price =  21 seats\n",
      "       Lisbon->New York, Early Bird =  50 seats\n",
      "        Lisbon->Chicago, Early Bird =  88 seats\n",
      "        Lisbon->Orlando, Early Bird =  75 seats\n",
      "       Lisbon->New York, Full Price =  29 seats\n",
      "        Lisbon->Chicago, Full Price =  14 seats\n",
      "        Lisbon->Orlando, Full Price =  18 seats\n",
      "      New York->Chicago, Early Bird =  60 seats\n",
      "      New York->Chicago, Full Price =  16 seats\n",
      "      New York->Orlando, Early Bird =  78 seats\n",
      "      New York->Orlando, Full Price =  19 seats\n"
     ]
    }
   ],
   "source": [
    "decision_variables = [pne,pce,poe,pnf,pcf,pof,lne,lce,loe,lnf,lcf,lof,nce,ncf,noe,nof]\n",
    "for v in decision_variables:\n",
    "    print('%35s = %3d seats' % (v.name(), v.solution_value()))"
   ]
  }
 ],
 "metadata": {
  "kernelspec": {
   "display_name": "Python 3",
   "language": "python",
   "name": "python3"
  },
  "language_info": {
   "codemirror_mode": {
    "name": "ipython",
    "version": 3
   },
   "file_extension": ".py",
   "mimetype": "text/x-python",
   "name": "python",
   "nbconvert_exporter": "python",
   "pygments_lexer": "ipython3",
   "version": "3.7.2"
  },
  "latex_envs": {
   "LaTeX_envs_menu_present": true,
   "autoclose": false,
   "autocomplete": true,
   "bibliofile": "biblio.bib",
   "cite_by": "apalike",
   "current_citInitial": 1,
   "eqLabelWithNumbers": true,
   "eqNumInitial": 1,
   "hotkeys": {
    "equation": "Ctrl-E",
    "itemize": "Ctrl-I"
   },
   "labels_anchors": false,
   "latex_user_defs": false,
   "report_style_numbering": false,
   "user_envs_cfg": false
  }
 },
 "nbformat": 4,
 "nbformat_minor": 2
}
