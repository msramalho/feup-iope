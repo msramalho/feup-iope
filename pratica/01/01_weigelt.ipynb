{
 "cells": [
  {
   "cell_type": "code",
   "execution_count": 1,
   "metadata": {},
   "outputs": [],
   "source": [
    "from ortools.linear_solver import pywraplp\n",
    "solver = pywraplp.Solver('weigelt_solver', pywraplp.Solver.CBC_MIXED_INTEGER_PROGRAMMING)"
   ]
  },
  {
   "cell_type": "code",
   "execution_count": 2,
   "metadata": {},
   "outputs": [],
   "source": [
    "def get_lms(factory, minv=0.0, maxv=solver.infinity()):\n",
    "    l = solver.IntVar(minv, maxv, 'units of large size for factory %s' % factory)\n",
    "    m = solver.IntVar(minv, maxv, 'units of medium size for factory %s' % factory)\n",
    "    s = solver.IntVar(minv, maxv, 'units of small size for factory %s' % factory)\n",
    "    return l, m, s"
   ]
  },
  {
   "cell_type": "code",
   "execution_count": 3,
   "metadata": {},
   "outputs": [],
   "source": [
    "l1,m1,s1 = get_lms(\"1\")\n",
    "l2,m2,s2 = get_lms(\"2\")\n",
    "l3,m3,s3 = get_lms(\"3\")"
   ]
  },
  {
   "cell_type": "code",
   "execution_count": 4,
   "metadata": {},
   "outputs": [],
   "source": [
    "# factory 1 can produce up to 750\n",
    "# l1 + m1 + s1 <= 750\n",
    "constraint1 = solver.Constraint(0.0, 750)\n",
    "constraint1.SetCoefficient(l1, 1)\n",
    "constraint1.SetCoefficient(m1, 1)\n",
    "constraint1.SetCoefficient(s1, 1)"
   ]
  },
  {
   "cell_type": "code",
   "execution_count": 5,
   "metadata": {},
   "outputs": [],
   "source": [
    "# factory 2 can produce up to 900\n",
    "# l2 + m2 + s2 <= 900\n",
    "solver.Add(l2+m2+s2 <= 900);"
   ]
  },
  {
   "cell_type": "code",
   "execution_count": 6,
   "metadata": {},
   "outputs": [],
   "source": [
    "# factory 3 can produce up to 450\n",
    "# l3 + m3 + s3 <= 450\n",
    "solver.Add(l3 + m3 + s3 <= 450);"
   ]
  },
  {
   "cell_type": "code",
   "execution_count": 7,
   "metadata": {},
   "outputs": [],
   "source": [
    "# factory 1 has capacity for 13000\n",
    "solver.Add(20*l1 + 15*m1 + 12*s1 <= 13000);"
   ]
  },
  {
   "cell_type": "code",
   "execution_count": 8,
   "metadata": {},
   "outputs": [],
   "source": [
    "# factory 2 has capacity for 13000\n",
    "solver.Add(20*l2 + 15*m2 + 12*s2 <= 12000);"
   ]
  },
  {
   "cell_type": "code",
   "execution_count": 9,
   "metadata": {},
   "outputs": [],
   "source": [
    "# factory 3 has capacity for 5000\n",
    "solver.Add(20*l3 + 15*m3 + 12*s3 <= 5000);"
   ]
  },
  {
   "cell_type": "code",
   "execution_count": 10,
   "metadata": {},
   "outputs": [],
   "source": [
    "solver.Add(l1+l2+l3<=900);\n",
    "solver.Add(m1+m2+m3<=1200);\n",
    "solver.Add(s1+s2+s3<=750);"
   ]
  },
  {
   "cell_type": "code",
   "execution_count": 11,
   "metadata": {},
   "outputs": [],
   "source": [
    "solver.Add((l1+m1+s1)/750 == (l2+m2+s2)/900);\n",
    "solver.Add((l1+m1+s1)/750 == (l3+m3+s3)/450);"
   ]
  },
  {
   "cell_type": "code",
   "execution_count": 12,
   "metadata": {},
   "outputs": [],
   "source": [
    "solver.Maximize(420*(l1+l2+l3) + 360*(m1+m2+m3) + 300*(s1+s2+s3))"
   ]
  },
  {
   "cell_type": "code",
   "execution_count": 13,
   "metadata": {},
   "outputs": [
    {
     "name": "stdout",
     "output_type": "stream",
     "text": [
      "Number of variables = 9\n",
      "Number of constraints = 11\n"
     ]
    }
   ],
   "source": [
    "print('Number of variables =', solver.NumVariables())\n",
    "print('Number of constraints =', solver.NumConstraints())"
   ]
  },
  {
   "cell_type": "code",
   "execution_count": 14,
   "metadata": {},
   "outputs": [],
   "source": [
    "result_status = solver.Solve()"
   ]
  },
  {
   "cell_type": "code",
   "execution_count": 15,
   "metadata": {},
   "outputs": [],
   "source": [
    "# The problem has an optimal solution.\n",
    "assert result_status == pywraplp.Solver.OPTIMAL"
   ]
  },
  {
   "cell_type": "code",
   "execution_count": 21,
   "metadata": {},
   "outputs": [
    {
     "name": "stdout",
     "output_type": "stream",
     "text": [
      "Optimal objective value = 694680\n"
     ]
    }
   ],
   "source": [
    "print('Optimal objective value = %d' % solver.Objective().Value())"
   ]
  },
  {
   "cell_type": "code",
   "execution_count": 26,
   "metadata": {},
   "outputs": [
    {
     "name": "stdout",
     "output_type": "stream",
     "text": [
      "  units of large size for factory 1 =  530\n",
      " units of medium size for factory 1 =  160\n",
      "  units of small size for factory 1 =    0\n",
      "  units of large size for factory 2 =    0\n",
      " units of medium size for factory 2 =  688\n",
      "  units of small size for factory 2 =  140\n",
      "  units of large size for factory 3 =    0\n",
      " units of medium size for factory 3 =   10\n",
      "  units of small size for factory 3 =  404\n"
     ]
    }
   ],
   "source": [
    "variable_list = [l1,m1,s1,l2,m2,s2,l3,m3,s3]\n",
    "for variable in variable_list:\n",
    "    print('%35s = %4d' % (variable.name(), variable.solution_value()))"
   ]
  },
  {
   "cell_type": "code",
   "execution_count": 20,
   "metadata": {},
   "outputs": [],
   "source": [
    "# solver.__dir__()"
   ]
  }
 ],
 "metadata": {
  "kernelspec": {
   "display_name": "Python 3",
   "language": "python",
   "name": "python3"
  },
  "language_info": {
   "codemirror_mode": {
    "name": "ipython",
    "version": 3
   },
   "file_extension": ".py",
   "mimetype": "text/x-python",
   "name": "python",
   "nbconvert_exporter": "python",
   "pygments_lexer": "ipython3",
   "version": "3.6.4"
  },
  "latex_envs": {
   "LaTeX_envs_menu_present": true,
   "autoclose": false,
   "autocomplete": true,
   "bibliofile": "biblio.bib",
   "cite_by": "apalike",
   "current_citInitial": 1,
   "eqLabelWithNumbers": true,
   "eqNumInitial": 1,
   "hotkeys": {
    "equation": "Ctrl-E",
    "itemize": "Ctrl-I"
   },
   "labels_anchors": false,
   "latex_user_defs": false,
   "report_style_numbering": false,
   "user_envs_cfg": false
  }
 },
 "nbformat": 4,
 "nbformat_minor": 2
}
